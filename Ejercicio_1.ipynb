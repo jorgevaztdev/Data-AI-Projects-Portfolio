{
 "cells": [
  {
   "cell_type": "code",
   "execution_count": 4,
   "metadata": {},
   "outputs": [
    {
     "name": "stdout",
     "output_type": "stream",
     "text": [
      "telas de marca propia: 10 unidades x    180.00 =     1800.00\n"
     ]
    }
   ],
   "source": [
    "objeto = input('Introduce el nombre del objeto:')\n",
    "precio = float(input('Introduce el precio:'))\n",
    "num_unidades= int(input('Introduce el número de unidades:'))\n",
    "print('{objeto}:{num_unidades:3d} unidades x {precio:9.2f} = {total:11.2f}'.format(objeto= objeto, num_unidades= num_unidades, precio= precio, total=num_unidades*precio))"
   ]
  },
  {
   "cell_type": "code",
   "execution_count": null,
   "metadata": {},
   "outputs": [],
   "source": []
  }
 ],
 "metadata": {
  "kernelspec": {
   "display_name": "Python 3",
   "language": "python",
   "name": "python3"
  },
  "language_info": {
   "codemirror_mode": {
    "name": "ipython",
    "version": 3
   },
   "file_extension": ".py",
   "mimetype": "text/x-python",
   "name": "python",
   "nbconvert_exporter": "python",
   "pygments_lexer": "ipython3",
   "version": "3.12.3"
  }
 },
 "nbformat": 4,
 "nbformat_minor": 2
}
