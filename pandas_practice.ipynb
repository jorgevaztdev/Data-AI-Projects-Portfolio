{
  "nbformat": 4,
  "nbformat_minor": 0,
  "metadata": {
    "colab": {
      "provenance": [],
      "authorship_tag": "ABX9TyNv7Ze/jUt4YYdMETsaayAR",
      "include_colab_link": true
    },
    "kernelspec": {
      "name": "python3",
      "display_name": "Python 3"
    },
    "language_info": {
      "name": "python"
    }
  },
  "cells": [
    {
      "cell_type": "markdown",
      "metadata": {
        "id": "view-in-github",
        "colab_type": "text"
      },
      "source": [
        "<a href=\"https://colab.research.google.com/github/jorgevaztdev/Pandas_Course/blob/main/pandas_practice.ipynb\" target=\"_parent\"><img src=\"https://colab.research.google.com/assets/colab-badge.svg\" alt=\"Open In Colab\"/></a>"
      ]
    },
    {
      "cell_type": "markdown",
      "source": [
        "This is the collab for the personality dataset"
      ],
      "metadata": {
        "id": "wN2rWW9lJajX"
      }
    },
    {
      "cell_type": "code",
      "execution_count": 3,
      "metadata": {
        "colab": {
          "base_uri": "https://localhost:8080/"
        },
        "id": "1tSTNG_chz6y",
        "outputId": "044c4ea6-3972-4f6b-bfbf-ff6af71eb35e",
        "collapsed": true
      },
      "outputs": [
        {
          "output_type": "stream",
          "name": "stdout",
          "text": [
            "Requirement already satisfied: pandas in /usr/local/lib/python3.11/dist-packages (2.2.2)\n",
            "Requirement already satisfied: numpy>=1.23.2 in /usr/local/lib/python3.11/dist-packages (from pandas) (2.0.2)\n",
            "Requirement already satisfied: python-dateutil>=2.8.2 in /usr/local/lib/python3.11/dist-packages (from pandas) (2.9.0.post0)\n",
            "Requirement already satisfied: pytz>=2020.1 in /usr/local/lib/python3.11/dist-packages (from pandas) (2025.2)\n",
            "Requirement already satisfied: tzdata>=2022.7 in /usr/local/lib/python3.11/dist-packages (from pandas) (2025.2)\n",
            "Requirement already satisfied: six>=1.5 in /usr/local/lib/python3.11/dist-packages (from python-dateutil>=2.8.2->pandas) (1.17.0)\n",
            "Requirement already satisfied: numpy in /usr/local/lib/python3.11/dist-packages (2.0.2)\n"
          ]
        }
      ],
      "source": [
        "!pip install pandas\n",
        "!pip install numpy"
      ]
    },
    {
      "cell_type": "code",
      "source": [
        "import pandas as pd\n",
        "import numpy as np\n",
        "df= pd.read_csv('personality_dataset.csv')\n",
        "print(df.head)"
      ],
      "metadata": {
        "id": "oK_62brJiJB3",
        "colab": {
          "base_uri": "https://localhost:8080/"
        },
        "outputId": "81290739-70e1-4187-f556-685616f538f6"
      },
      "execution_count": 1,
      "outputs": [
        {
          "output_type": "stream",
          "name": "stdout",
          "text": [
            "<bound method NDFrame.head of       Time_spent_Alone Stage_fear  Social_event_attendance  Going_outside  \\\n",
            "0                  4.0         No                      4.0            6.0   \n",
            "1                  9.0        Yes                      0.0            0.0   \n",
            "2                  9.0        Yes                      1.0            2.0   \n",
            "3                  0.0         No                      6.0            7.0   \n",
            "4                  3.0         No                      9.0            4.0   \n",
            "...                ...        ...                      ...            ...   \n",
            "2895               3.0         No                      7.0            6.0   \n",
            "2896               3.0         No                      8.0            3.0   \n",
            "2897               4.0        Yes                      1.0            1.0   \n",
            "2898              11.0        Yes                      1.0            NaN   \n",
            "2899               3.0         No                      6.0            6.0   \n",
            "\n",
            "     Drained_after_socializing  Friends_circle_size  Post_frequency  \\\n",
            "0                           No                 13.0             5.0   \n",
            "1                          Yes                  0.0             3.0   \n",
            "2                          Yes                  5.0             2.0   \n",
            "3                           No                 14.0             8.0   \n",
            "4                           No                  8.0             5.0   \n",
            "...                        ...                  ...             ...   \n",
            "2895                        No                  6.0             6.0   \n",
            "2896                        No                 14.0             9.0   \n",
            "2897                       Yes                  4.0             0.0   \n",
            "2898                       Yes                  2.0             0.0   \n",
            "2899                        No                  6.0             9.0   \n",
            "\n",
            "     Personality  \n",
            "0      Extrovert  \n",
            "1      Introvert  \n",
            "2      Introvert  \n",
            "3      Extrovert  \n",
            "4      Extrovert  \n",
            "...          ...  \n",
            "2895   Extrovert  \n",
            "2896   Extrovert  \n",
            "2897   Introvert  \n",
            "2898   Introvert  \n",
            "2899   Extrovert  \n",
            "\n",
            "[2900 rows x 8 columns]>\n"
          ]
        }
      ]
    }
  ]
}