{
 "cells": [
  {
   "cell_type": "markdown",
   "metadata": {},
   "source": [
    "This document contains the information related to the presentation about Python and Data Analytics."
   ]
  },
  {
   "cell_type": "code",
   "execution_count": 1,
   "metadata": {},
   "outputs": [
    {
     "name": "stdout",
     "output_type": "stream",
     "text": [
      "Collecting pandas\n",
      "  Downloading pandas-2.2.2-cp312-cp312-macosx_11_0_arm64.whl.metadata (19 kB)\n",
      "Collecting numpy>=1.26.0 (from pandas)\n",
      "  Downloading numpy-1.26.4-cp312-cp312-macosx_11_0_arm64.whl.metadata (61 kB)\n",
      "\u001b[2K     \u001b[90m━━━━━━━━━━━━━━━━━━━━━━━━━━━━━━━━━━━━━━━━\u001b[0m \u001b[32m61.1/61.1 kB\u001b[0m \u001b[31m2.1 MB/s\u001b[0m eta \u001b[36m0:00:00\u001b[0m\n",
      "\u001b[?25hRequirement already satisfied: python-dateutil>=2.8.2 in /Users/jorgevazt/Library/Python/3.12/lib/python/site-packages (from pandas) (2.9.0.post0)\n",
      "Collecting pytz>=2020.1 (from pandas)\n",
      "  Downloading pytz-2024.1-py2.py3-none-any.whl.metadata (22 kB)\n",
      "Collecting tzdata>=2022.7 (from pandas)\n",
      "  Downloading tzdata-2024.1-py2.py3-none-any.whl.metadata (1.4 kB)\n",
      "Requirement already satisfied: six>=1.5 in /Users/jorgevazt/Library/Python/3.12/lib/python/site-packages (from python-dateutil>=2.8.2->pandas) (1.16.0)\n",
      "Downloading pandas-2.2.2-cp312-cp312-macosx_11_0_arm64.whl (11.3 MB)\n",
      "\u001b[2K   \u001b[90m━━━━━━━━━━━━━━━━━━━━━━━━━━━━━━━━━━━━━━━━\u001b[0m \u001b[32m11.3/11.3 MB\u001b[0m \u001b[31m12.0 MB/s\u001b[0m eta \u001b[36m0:00:00\u001b[0m00:01\u001b[0m00:01\u001b[0m\n",
      "\u001b[?25hDownloading numpy-1.26.4-cp312-cp312-macosx_11_0_arm64.whl (13.7 MB)\n",
      "\u001b[2K   \u001b[90m━━━━━━━━━━━━━━━━━━━━━━━━━━━━━━━━━━━━━━━━\u001b[0m \u001b[32m13.7/13.7 MB\u001b[0m \u001b[31m13.1 MB/s\u001b[0m eta \u001b[36m0:00:00\u001b[0m00:01\u001b[0m00:01\u001b[0m\n",
      "\u001b[?25hDownloading pytz-2024.1-py2.py3-none-any.whl (505 kB)\n",
      "\u001b[2K   \u001b[90m━━━━━━━━━━━━━━━━━━━━━━━━━━━━━━━━━━━━━━━━\u001b[0m \u001b[32m505.5/505.5 kB\u001b[0m \u001b[31m10.6 MB/s\u001b[0m eta \u001b[36m0:00:00\u001b[0m00:01\u001b[0m\n",
      "\u001b[?25hDownloading tzdata-2024.1-py2.py3-none-any.whl (345 kB)\n",
      "\u001b[2K   \u001b[90m━━━━━━━━━━━━━━━━━━━━━━━━━━━━━━━━━━━━━━━━\u001b[0m \u001b[32m345.4/345.4 kB\u001b[0m \u001b[31m16.5 MB/s\u001b[0m eta \u001b[36m0:00:00\u001b[0m\n",
      "\u001b[?25hInstalling collected packages: pytz, tzdata, numpy, pandas\n",
      "Successfully installed numpy-1.26.4 pandas-2.2.2 pytz-2024.1 tzdata-2024.1\n",
      "Note: you may need to restart the kernel to use updated packages.\n"
     ]
    }
   ],
   "source": [
    "pip install pandas "
   ]
  },
  {
   "cell_type": "code",
   "execution_count": 7,
   "metadata": {},
   "outputs": [
    {
     "data": {
      "text/html": [
       "<div>\n",
       "<style scoped>\n",
       "    .dataframe tbody tr th:only-of-type {\n",
       "        vertical-align: middle;\n",
       "    }\n",
       "\n",
       "    .dataframe tbody tr th {\n",
       "        vertical-align: top;\n",
       "    }\n",
       "\n",
       "    .dataframe thead th {\n",
       "        text-align: right;\n",
       "    }\n",
       "</style>\n",
       "<table border=\"1\" class=\"dataframe\">\n",
       "  <thead>\n",
       "    <tr style=\"text-align: right;\">\n",
       "      <th></th>\n",
       "      <th>Book Name</th>\n",
       "      <th>Author</th>\n",
       "      <th>Average Rating</th>\n",
       "      <th>Number of Ratings</th>\n",
       "      <th>Score on Goodreads</th>\n",
       "    </tr>\n",
       "  </thead>\n",
       "  <tbody>\n",
       "    <tr>\n",
       "      <th>0</th>\n",
       "      <td>To Kill a Mockingbird</td>\n",
       "      <td>Harper Lee</td>\n",
       "      <td>4.26</td>\n",
       "      <td>6129090</td>\n",
       "      <td>17358.0</td>\n",
       "    </tr>\n",
       "    <tr>\n",
       "      <th>1</th>\n",
       "      <td>1984</td>\n",
       "      <td>George Orwell</td>\n",
       "      <td>4.19</td>\n",
       "      <td>4604557</td>\n",
       "      <td>15474.0</td>\n",
       "    </tr>\n",
       "    <tr>\n",
       "      <th>2</th>\n",
       "      <td>Pride and Prejudice</td>\n",
       "      <td>Jane Austen</td>\n",
       "      <td>4.29</td>\n",
       "      <td>4273146</td>\n",
       "      <td>15135.0</td>\n",
       "    </tr>\n",
       "    <tr>\n",
       "      <th>3</th>\n",
       "      <td>Harry Potter and the Sorcerer's Stone (Harry P...</td>\n",
       "      <td>J.K. Rowling</td>\n",
       "      <td>4.47</td>\n",
       "      <td>10063128</td>\n",
       "      <td>12440.0</td>\n",
       "    </tr>\n",
       "    <tr>\n",
       "      <th>4</th>\n",
       "      <td>The Great Gatsby</td>\n",
       "      <td>F. Scott Fitzgerald</td>\n",
       "      <td>3.93</td>\n",
       "      <td>5244056</td>\n",
       "      <td>10828.0</td>\n",
       "    </tr>\n",
       "  </tbody>\n",
       "</table>\n",
       "</div>"
      ],
      "text/plain": [
       "                                           Book Name               Author  \\\n",
       "0                              To Kill a Mockingbird           Harper Lee   \n",
       "1                                               1984        George Orwell   \n",
       "2                                Pride and Prejudice          Jane Austen   \n",
       "3  Harry Potter and the Sorcerer's Stone (Harry P...         J.K. Rowling   \n",
       "4                                   The Great Gatsby  F. Scott Fitzgerald   \n",
       "\n",
       "   Average Rating  Number of Ratings  Score on Goodreads  \n",
       "0            4.26            6129090             17358.0  \n",
       "1            4.19            4604557             15474.0  \n",
       "2            4.29            4273146             15135.0  \n",
       "3            4.47           10063128             12440.0  \n",
       "4            3.93            5244056             10828.0  "
      ]
     },
     "execution_count": 7,
     "metadata": {},
     "output_type": "execute_result"
    }
   ],
   "source": [
    "import pandas as pd \n",
    "books = pd.read_csv('/Users/jorgevazt/Documents/Pandas_Course/Top1000Booksdataset.csv')\n",
    "books.head()"
   ]
  },
  {
   "cell_type": "markdown",
   "metadata": {},
   "source": [
    "<h1> Summarizing numerical data </h1>\n",
    "\n",
    "<h3>.mean()</h3>\n",
    "<h3>.median()</h3>\n",
    "<h3>.mode()</h3>\n",
    "<h3>.min()</h3>\n",
    "<h3>.max()</h3>\n",
    "<h3>.var()</h3>\n",
    "<h3>.std()</h3>\n",
    "<h3>.sum()</h3>\n",
    "<h3>.quantile()</h3>"
   ]
  },
  {
   "cell_type": "code",
   "execution_count": 5,
   "metadata": {},
   "outputs": [
    {
     "data": {
      "text/plain": [
       "3.867099311701082"
      ]
     },
     "execution_count": 5,
     "metadata": {},
     "output_type": "execute_result"
    }
   ],
   "source": [
    "books['Average Rating'].mean()"
   ]
  },
  {
   "cell_type": "code",
   "execution_count": 6,
   "metadata": {},
   "outputs": [
    {
     "data": {
      "text/plain": [
       "17358.0"
      ]
     },
     "execution_count": 6,
     "metadata": {},
     "output_type": "execute_result"
    }
   ],
   "source": [
    "books['Score on Goodreads'].max()"
   ]
  },
  {
   "cell_type": "code",
   "execution_count": 2,
   "metadata": {},
   "outputs": [
    {
     "data": {
      "text/plain": [
       "0.25475737834337975"
      ]
     },
     "execution_count": 2,
     "metadata": {},
     "output_type": "execute_result"
    }
   ],
   "source": [
    "books['Average Rating'].std()"
   ]
  },
  {
   "cell_type": "code",
   "execution_count": 5,
   "metadata": {},
   "outputs": [
    {
     "data": {
      "text/plain": [
       "3.75"
      ]
     },
     "execution_count": 5,
     "metadata": {},
     "output_type": "execute_result"
    }
   ],
   "source": [
    "def pct30(column):\n",
    "    return column.quantile(0.3)\n",
    "\n",
    "books['Average Rating'].agg(pct30)"
   ]
  },
  {
   "cell_type": "code",
   "execution_count": 6,
   "metadata": {},
   "outputs": [
    {
     "data": {
      "text/plain": [
       "0         6129090\n",
       "1        10733647\n",
       "2        15006793\n",
       "3        25069921\n",
       "4        30313977\n",
       "          ...    \n",
       "1012    172374396\n",
       "1013    172377647\n",
       "1014    172387885\n",
       "1015    172397501\n",
       "1016    172401992\n",
       "Name: Number of Ratings, Length: 1017, dtype: int64"
      ]
     },
     "execution_count": 6,
     "metadata": {},
     "output_type": "execute_result"
    }
   ],
   "source": [
    "#CumSum\n",
    "\n",
    "books['Number of Ratings'].cumsum()"
   ]
  },
  {
   "cell_type": "code",
   "execution_count": 9,
   "metadata": {},
   "outputs": [
    {
     "name": "stdout",
     "output_type": "stream",
     "text": [
      "                                                                 Author  \\\n",
      "Book Name                                                                 \n",
      "To Kill a Mockingbird                                        Harper Lee   \n",
      "1984                                                      George Orwell   \n",
      "Pride and Prejudice                                         Jane Austen   \n",
      "Harry Potter and the Sorcerer's Stone (Harry Po...         J.K. Rowling   \n",
      "The Great Gatsby                                    F. Scott Fitzgerald   \n",
      "...                                                                 ...   \n",
      "The Old Men at the Zoo                                     Angus Wilson   \n",
      "The Case of the Gilded Fly (Gervase Fen, #1)             Edmund Crispin   \n",
      "The Swimming-Pool Library                             Alan Hollinghurst   \n",
      "A Dark-Adapted Eye                                         Barbara Vine   \n",
      "A Fatal Inversion                                          Barbara Vine   \n",
      "\n",
      "                                                    Average Rating  \\\n",
      "Book Name                                                            \n",
      "To Kill a Mockingbird                                         4.26   \n",
      "1984                                                          4.19   \n",
      "Pride and Prejudice                                           4.29   \n",
      "Harry Potter and the Sorcerer's Stone (Harry Po...            4.47   \n",
      "The Great Gatsby                                              3.93   \n",
      "...                                                            ...   \n",
      "The Old Men at the Zoo                                        3.35   \n",
      "The Case of the Gilded Fly (Gervase Fen, #1)                  3.52   \n",
      "The Swimming-Pool Library                                     3.73   \n",
      "A Dark-Adapted Eye                                            3.93   \n",
      "A Fatal Inversion                                             3.94   \n",
      "\n",
      "                                                    Number of Ratings  \\\n",
      "Book Name                                                               \n",
      "To Kill a Mockingbird                                         6129090   \n",
      "1984                                                          4604557   \n",
      "Pride and Prejudice                                           4273146   \n",
      "Harry Potter and the Sorcerer's Stone (Harry Po...           10063128   \n",
      "The Great Gatsby                                              5244056   \n",
      "...                                                               ...   \n",
      "The Old Men at the Zoo                                            126   \n",
      "The Case of the Gilded Fly (Gervase Fen, #1)                     3251   \n",
      "The Swimming-Pool Library                                       10238   \n",
      "A Dark-Adapted Eye                                               9616   \n",
      "A Fatal Inversion                                                4491   \n",
      "\n",
      "                                                    Score on Goodreads  \n",
      "Book Name                                                               \n",
      "To Kill a Mockingbird                                          17358.0  \n",
      "1984                                                           15474.0  \n",
      "Pride and Prejudice                                            15135.0  \n",
      "Harry Potter and the Sorcerer's Stone (Harry Po...             12440.0  \n",
      "The Great Gatsby                                               10828.0  \n",
      "...                                                                ...  \n",
      "The Old Men at the Zoo                                             3.0  \n",
      "The Case of the Gilded Fly (Gervase Fen, #1)                       3.0  \n",
      "The Swimming-Pool Library                                          3.0  \n",
      "A Dark-Adapted Eye                                                 2.0  \n",
      "A Fatal Inversion                                                  1.0  \n",
      "\n",
      "[1017 rows x 4 columns]\n"
     ]
    }
   ],
   "source": [
    "books_ind = books.set_index(\"Book Name\")\n",
    "print(books_ind)"
   ]
  },
  {
   "cell_type": "code",
   "execution_count": 11,
   "metadata": {},
   "outputs": [
    {
     "name": "stdout",
     "output_type": "stream",
     "text": [
      "                                                             Book Name  \\\n",
      "Author                                                                   \n",
      "Harper Lee                                       To Kill a Mockingbird   \n",
      "George Orwell                                                     1984   \n",
      "Jane Austen                                        Pride and Prejudice   \n",
      "J.K. Rowling         Harry Potter and the Sorcerer's Stone (Harry P...   \n",
      "F. Scott Fitzgerald                                   The Great Gatsby   \n",
      "...                                                                ...   \n",
      "Angus Wilson                                    The Old Men at the Zoo   \n",
      "Edmund Crispin            The Case of the Gilded Fly (Gervase Fen, #1)   \n",
      "Alan Hollinghurst                            The Swimming-Pool Library   \n",
      "Barbara Vine                                        A Dark-Adapted Eye   \n",
      "Barbara Vine                                         A Fatal Inversion   \n",
      "\n",
      "                     Average Rating  Number of Ratings  Score on Goodreads  \n",
      "Author                                                                      \n",
      "Harper Lee                     4.26            6129090             17358.0  \n",
      "George Orwell                  4.19            4604557             15474.0  \n",
      "Jane Austen                    4.29            4273146             15135.0  \n",
      "J.K. Rowling                   4.47           10063128             12440.0  \n",
      "F. Scott Fitzgerald            3.93            5244056             10828.0  \n",
      "...                             ...                ...                 ...  \n",
      "Angus Wilson                   3.35                126                 3.0  \n",
      "Edmund Crispin                 3.52               3251                 3.0  \n",
      "Alan Hollinghurst              3.73              10238                 3.0  \n",
      "Barbara Vine                   3.93               9616                 2.0  \n",
      "Barbara Vine                   3.94               4491                 1.0  \n",
      "\n",
      "[1017 rows x 4 columns]\n"
     ]
    }
   ],
   "source": [
    "books_ind_autor = books.set_index(\"Author\")\n",
    "print(books_ind_autor)"
   ]
  },
  {
   "cell_type": "code",
   "execution_count": 12,
   "metadata": {},
   "outputs": [
    {
     "data": {
      "text/html": [
       "<div>\n",
       "<style scoped>\n",
       "    .dataframe tbody tr th:only-of-type {\n",
       "        vertical-align: middle;\n",
       "    }\n",
       "\n",
       "    .dataframe tbody tr th {\n",
       "        vertical-align: top;\n",
       "    }\n",
       "\n",
       "    .dataframe thead th {\n",
       "        text-align: right;\n",
       "    }\n",
       "</style>\n",
       "<table border=\"1\" class=\"dataframe\">\n",
       "  <thead>\n",
       "    <tr style=\"text-align: right;\">\n",
       "      <th></th>\n",
       "      <th>Book Name</th>\n",
       "      <th>Author</th>\n",
       "      <th>Average Rating</th>\n",
       "      <th>Number of Ratings</th>\n",
       "      <th>Score on Goodreads</th>\n",
       "    </tr>\n",
       "  </thead>\n",
       "  <tbody>\n",
       "    <tr>\n",
       "      <th>2</th>\n",
       "      <td>Pride and Prejudice</td>\n",
       "      <td>Jane Austen</td>\n",
       "      <td>4.29</td>\n",
       "      <td>4273146</td>\n",
       "      <td>15135.0</td>\n",
       "    </tr>\n",
       "    <tr>\n",
       "      <th>32</th>\n",
       "      <td>Sense and Sensibility</td>\n",
       "      <td>Jane Austen</td>\n",
       "      <td>4.08</td>\n",
       "      <td>1190719</td>\n",
       "      <td>4828.0</td>\n",
       "    </tr>\n",
       "    <tr>\n",
       "      <th>47</th>\n",
       "      <td>Emma</td>\n",
       "      <td>Jane Austen</td>\n",
       "      <td>4.05</td>\n",
       "      <td>887050</td>\n",
       "      <td>3680.0</td>\n",
       "    </tr>\n",
       "    <tr>\n",
       "      <th>85</th>\n",
       "      <td>Persuasion</td>\n",
       "      <td>Jane Austen</td>\n",
       "      <td>4.15</td>\n",
       "      <td>702858</td>\n",
       "      <td>1909.0</td>\n",
       "    </tr>\n",
       "    <tr>\n",
       "      <th>225</th>\n",
       "      <td>Northanger Abbey</td>\n",
       "      <td>Jane Austen</td>\n",
       "      <td>3.85</td>\n",
       "      <td>401445</td>\n",
       "      <td>565.0</td>\n",
       "    </tr>\n",
       "    <tr>\n",
       "      <th>235</th>\n",
       "      <td>Mansfield Park</td>\n",
       "      <td>Jane Austen</td>\n",
       "      <td>3.86</td>\n",
       "      <td>349910</td>\n",
       "      <td>526.0</td>\n",
       "    </tr>\n",
       "    <tr>\n",
       "      <th>584</th>\n",
       "      <td>King Solomon's Carpet</td>\n",
       "      <td>Barbara Vine</td>\n",
       "      <td>3.73</td>\n",
       "      <td>1987</td>\n",
       "      <td>100.0</td>\n",
       "    </tr>\n",
       "    <tr>\n",
       "      <th>1015</th>\n",
       "      <td>A Dark-Adapted Eye</td>\n",
       "      <td>Barbara Vine</td>\n",
       "      <td>3.93</td>\n",
       "      <td>9616</td>\n",
       "      <td>2.0</td>\n",
       "    </tr>\n",
       "    <tr>\n",
       "      <th>1016</th>\n",
       "      <td>A Fatal Inversion</td>\n",
       "      <td>Barbara Vine</td>\n",
       "      <td>3.94</td>\n",
       "      <td>4491</td>\n",
       "      <td>1.0</td>\n",
       "    </tr>\n",
       "  </tbody>\n",
       "</table>\n",
       "</div>"
      ],
      "text/plain": [
       "                  Book Name        Author  Average Rating  Number of Ratings  \\\n",
       "2       Pride and Prejudice   Jane Austen            4.29            4273146   \n",
       "32    Sense and Sensibility   Jane Austen            4.08            1190719   \n",
       "47                     Emma   Jane Austen            4.05             887050   \n",
       "85               Persuasion   Jane Austen            4.15             702858   \n",
       "225        Northanger Abbey   Jane Austen            3.85             401445   \n",
       "235          Mansfield Park   Jane Austen            3.86             349910   \n",
       "584   King Solomon's Carpet  Barbara Vine            3.73               1987   \n",
       "1015     A Dark-Adapted Eye  Barbara Vine            3.93               9616   \n",
       "1016      A Fatal Inversion  Barbara Vine            3.94               4491   \n",
       "\n",
       "      Score on Goodreads  \n",
       "2                15135.0  \n",
       "32                4828.0  \n",
       "47                3680.0  \n",
       "85                1909.0  \n",
       "225                565.0  \n",
       "235                526.0  \n",
       "584                100.0  \n",
       "1015                 2.0  \n",
       "1016                 1.0  "
      ]
     },
     "execution_count": 12,
     "metadata": {},
     "output_type": "execute_result"
    }
   ],
   "source": [
    "books[books[\"Author\"].isin([\"Jane Austen\", \"Barbara Vine\"])]"
   ]
  },
  {
   "cell_type": "code",
   "execution_count": 21,
   "metadata": {},
   "outputs": [
    {
     "data": {
      "text/plain": [
       "1990"
      ]
     },
     "execution_count": 21,
     "metadata": {},
     "output_type": "execute_result"
    }
   ],
   "source": [
    "from datetime import datetime\n",
    "birthday = datetime(1990,3,6,2,30)\n",
    "birthday.year"
   ]
  },
  {
   "cell_type": "code",
   "execution_count": 26,
   "metadata": {},
   "outputs": [
    {
     "data": {
      "text/plain": [
       "datetime.datetime(2024, 5, 12, 12, 40, 59, 881126)"
      ]
     },
     "execution_count": 26,
     "metadata": {},
     "output_type": "execute_result"
    }
   ],
   "source": [
    "datetime.now()"
   ]
  },
  {
   "cell_type": "code",
   "execution_count": 38,
   "metadata": {},
   "outputs": [
    {
     "data": {
      "text/plain": [
       "2018"
      ]
     },
     "execution_count": 38,
     "metadata": {},
     "output_type": "execute_result"
    }
   ],
   "source": [
    "parsed_date = datetime.strptime('Jan 15,2018', '%b %d,%Y')\n",
    "parsed_date.year"
   ]
  }
 ],
 "metadata": {
  "kernelspec": {
   "display_name": "Python 3",
   "language": "python",
   "name": "python3"
  },
  "language_info": {
   "codemirror_mode": {
    "name": "ipython",
    "version": 3
   },
   "file_extension": ".py",
   "mimetype": "text/x-python",
   "name": "python",
   "nbconvert_exporter": "python",
   "pygments_lexer": "ipython3",
   "version": "3.12.3"
  }
 },
 "nbformat": 4,
 "nbformat_minor": 2
}
