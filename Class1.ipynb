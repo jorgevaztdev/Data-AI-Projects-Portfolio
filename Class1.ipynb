{
 "cells": [
  {
   "cell_type": "code",
   "execution_count": 1,
   "metadata": {},
   "outputs": [
    {
     "data": {
      "text/plain": [
       "7"
      ]
     },
     "execution_count": 1,
     "metadata": {},
     "output_type": "execute_result"
    }
   ],
   "source": [
    "3+4"
   ]
  },
  {
   "cell_type": "code",
   "execution_count": 7,
   "metadata": {},
   "outputs": [
    {
     "name": "stdout",
     "output_type": "stream",
     "text": [
      "2\n",
      "99 problems\n",
      "31\n"
     ]
    }
   ],
   "source": [
    "name_lenght = len(str(31))\n",
    "print(name_lenght)\n",
    "\n",
    "issues = \"99\" + \" problems\"\n",
    "print(issues)\n",
    "\n",
    "age = int(\"31\")\n",
    "print(age)"
   ]
  },
  {
   "cell_type": "code",
   "execution_count": 11,
   "metadata": {},
   "outputs": [
    {
     "name": "stdout",
     "output_type": "stream",
     "text": [
      "La temperatura en Farenheit es 32.0\n"
     ]
    }
   ],
   "source": [
    "def temperatureCelsius(celsius):\n",
    "    fahrenheit = (celsius * 1.8) + 32\n",
    "    return print(\"La temperatura en Farenheit es\", fahrenheit)\n",
    "\n",
    "temperatureCelsius (0)"
   ]
  },
  {
   "cell_type": "code",
   "execution_count": 21,
   "metadata": {},
   "outputs": [
    {
     "name": "stdout",
     "output_type": "stream",
     "text": [
      "$ 4\n"
     ]
    }
   ],
   "source": [
    "def convert_to_currency(currency):\n",
    "    money= print(\"$\",currency)\n",
    "    return money\n",
    "\n",
    "convert_to_currency(4)"
   ]
  },
  {
   "cell_type": "code",
   "execution_count": 23,
   "metadata": {},
   "outputs": [
    {
     "data": {
      "text/plain": [
       "'python developer'"
      ]
     },
     "execution_count": 23,
     "metadata": {},
     "output_type": "execute_result"
    }
   ],
   "source": [
    "\"Python Developer\".upper()\n",
    "\"Python Developer\".lower()\n"
   ]
  },
  {
   "cell_type": "code",
   "execution_count": 26,
   "metadata": {},
   "outputs": [
    {
     "name": "stdout",
     "output_type": "stream",
     "text": [
      "9:00PM\n"
     ]
    }
   ],
   "source": [
    "wasteful_string = \"     9:00PM     \"\n",
    "unwasteful_string = wasteful_string.replace(\" \",\"\")\n",
    "print(unwasteful_string)"
   ]
  },
  {
   "cell_type": "code",
   "execution_count": 45,
   "metadata": {},
   "outputs": [],
   "source": [
    "# Declare a cleanup function that accepts a single string input\n",
    "# The function should\n",
    "#  1) remove all leading and trailing whitespace from the input string\n",
    "#  2) capitalize the first letter of the input string\n",
    "#  3) return the new string\n",
    "\n",
    "\n",
    "def cleanup (string):\n",
    "    replace = string.lstrip()\n",
    "    capitalize = replace.capitalize()\n",
    "    return print(capitalize)\n",
    "\n",
    "cleanup(\"  hello  \")\n",
    "\n"
   ]
  },
  {
   "cell_type": "code",
   "execution_count": 43,
   "metadata": {},
   "outputs": [
    {
     "name": "stdout",
     "output_type": "stream",
     "text": [
      "True\n"
     ]
    }
   ],
   "source": [
    "# The party_attendees string below contains a list of people attending our party\n",
    "# Use the 'in' operator to determine if \"Ron\" is attending the party\n",
    "# Assign the resulting Boolean to an 'is_attending' variable\n",
    "party_attendees = \"Sharon, James, Ron, Blake\"\n",
    "is_attending = \"Ron\" in party_attendees.strip()\n",
    "print(is_attending)"
   ]
  },
  {
   "cell_type": "code",
   "execution_count": 2,
   "metadata": {},
   "outputs": [
    {
     "name": "stdout",
     "output_type": "stream",
     "text": [
      "green\n",
      "yellow\n",
      "blue\n",
      "pink\n"
     ]
    }
   ],
   "source": [
    "colors = ['green', 'yellow', 'blue', 'pink']\n",
    "def linear(colors):\n",
    "    for color in colors:\n",
    "        print(color)\n",
    "linear(colors)"
   ]
  },
  {
   "cell_type": "code",
   "execution_count": 3,
   "metadata": {},
   "outputs": [],
   "source": [
    "while False:\n",
    "    print(\"Hello\")"
   ]
  },
  {
   "cell_type": "code",
   "execution_count": 4,
   "metadata": {},
   "outputs": [
    {
     "name": "stdout",
     "output_type": "stream",
     "text": [
      "0\n",
      "1\n",
      "2\n",
      "3\n",
      "4\n",
      "5\n",
      "6\n",
      "7\n",
      "8\n",
      "9\n",
      "10\n",
      "11\n"
     ]
    }
   ],
   "source": [
    "counter = 0\n",
    "while counter <12:\n",
    "    print(counter)\n",
    "    counter = counter +1"
   ]
  }
 ],
 "metadata": {
  "kernelspec": {
   "display_name": "Python 3",
   "language": "python",
   "name": "python3"
  },
  "language_info": {
   "codemirror_mode": {
    "name": "ipython",
    "version": 3
   },
   "file_extension": ".py",
   "mimetype": "text/x-python",
   "name": "python",
   "nbconvert_exporter": "python",
   "pygments_lexer": "ipython3",
   "version": "3.12.3"
  }
 },
 "nbformat": 4,
 "nbformat_minor": 2
}
